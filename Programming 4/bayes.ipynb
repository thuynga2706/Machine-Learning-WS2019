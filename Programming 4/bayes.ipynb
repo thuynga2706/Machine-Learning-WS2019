{
 "cells": [
  {
   "cell_type": "code",
   "execution_count": 1,
   "metadata": {},
   "outputs": [],
   "source": [
    "import pandas as pd\n",
    "import numpy as np"
   ]
  },
  {
   "cell_type": "code",
   "execution_count": 2,
   "metadata": {},
   "outputs": [],
   "source": [
    "data = pd.read_csv(\"Example.tsv\", sep='\\t',header = None).dropna(axis=1)"
   ]
  },
  {
   "cell_type": "code",
   "execution_count": 3,
   "metadata": {},
   "outputs": [],
   "source": [
    "output =data.iloc[:,0]\n",
    "inputs =data.iloc[:,1:]\n",
    "\n",
    "data_A = data[data[0]==\"A\"]\n",
    "data_B = data[data[0]==\"B\"]\n",
    "\n",
    "inputsA =data_A.iloc[:,1:]\n",
    "inputsB =data_B.iloc[:,1:]\n"
   ]
  },
  {
   "cell_type": "code",
   "execution_count": 4,
   "metadata": {},
   "outputs": [],
   "source": [
    "ProbA = len(inputsA)/len(data)\n",
    "ProbB = len(inputsB)/len(data)"
   ]
  },
  {
   "cell_type": "code",
   "execution_count": 5,
   "metadata": {},
   "outputs": [],
   "source": [
    "def getmeanandvariance(data):\n",
    "    mean = data.sum()/len(data)\n",
    "    variance = np.sum(np.square(data - mean))/(len(data)-1)\n",
    "    return mean,variance"
   ]
  },
  {
   "cell_type": "code",
   "execution_count": 6,
   "metadata": {},
   "outputs": [],
   "source": [
    "def getcontinuousprob(data,meanvariancedata):\n",
    "    #data: array of x\n",
    "    #meanvariancedata: data to get mean and variance\n",
    "    #return probability of x given distribution of meanvariancedata\n",
    "    mean,variance = getmeanandvariance(meanvariancedata)\n",
    "    array = np.exp(-np.square(data-mean)/(2*variance))/np.sqrt(2*np.pi*variance)\n",
    "    return array"
   ]
  },
  {
   "cell_type": "code",
   "execution_count": 7,
   "metadata": {},
   "outputs": [],
   "source": [
    "inputs[\"A\"] = ProbA\n",
    "inputs[\"B\"] = ProbB\n",
    "for i in range(inputsA.shape[1]):\n",
    "    inputs[\"A\"] = inputs[\"A\"]*getcontinuousprob(inputs.iloc[:,i],inputsA.iloc[:,i])\n",
    "    inputs[\"B\"] = inputs[\"B\"]*getcontinuousprob(inputs.iloc[:,i],inputsB.iloc[:,i])"
   ]
  },
  {
   "cell_type": "code",
   "execution_count": 8,
   "metadata": {},
   "outputs": [],
   "source": [
    "inputs.loc[inputs[\"A\"]>=inputs[\"B\"],\"prediction\"] = \"A\"\n",
    "inputs.loc[inputs[\"A\"]<inputs[\"B\"],\"prediction\"] = \"B\"\n"
   ]
  },
  {
   "cell_type": "code",
   "execution_count": 9,
   "metadata": {},
   "outputs": [],
   "source": [
    "meanA, variA = getmeanandvariance(inputsA)\n",
    "meanB, variB = getmeanandvariance(inputsB)"
   ]
  },
  {
   "cell_type": "code",
   "execution_count": 10,
   "metadata": {},
   "outputs": [],
   "source": [
    "outputStr=''\n",
    "for i in range(inputsA.shape[1]):\n",
    "    outputStr += str(meanA.to_list()[i]) + \"\\t\"\n",
    "    outputStr += str(variA.to_list()[i]) + \"\\t\"\n",
    "outputStr += str(ProbA)\n",
    "outputStr+=\"\\n\""
   ]
  },
  {
   "cell_type": "code",
   "execution_count": 11,
   "metadata": {},
   "outputs": [],
   "source": [
    "for i in range(inputsA.shape[1]):\n",
    "    outputStr += str(meanB.to_list()[i]) + \"\\t\"\n",
    "    outputStr += str(variB.to_list()[i]) + \"\\t\"\n",
    "outputStr += str(ProbB)\n",
    "outputStr+=\"\\n\""
   ]
  },
  {
   "cell_type": "code",
   "execution_count": 12,
   "metadata": {},
   "outputs": [],
   "source": [
    "outputStr += str((inputs.prediction == output).value_counts().loc[False])"
   ]
  },
  {
   "cell_type": "code",
   "execution_count": 13,
   "metadata": {},
   "outputs": [],
   "source": [
    "with open('output2.tsv', \"w\") as outputter:\n",
    "    outputter.write(outputStr)"
   ]
  },
  {
   "cell_type": "code",
   "execution_count": null,
   "metadata": {},
   "outputs": [],
   "source": []
  }
 ],
 "metadata": {
  "kernelspec": {
   "display_name": "Python 3",
   "language": "python",
   "name": "python3"
  },
  "language_info": {
   "codemirror_mode": {
    "name": "ipython",
    "version": 3
   },
   "file_extension": ".py",
   "mimetype": "text/x-python",
   "name": "python",
   "nbconvert_exporter": "python",
   "pygments_lexer": "ipython3",
   "version": "3.7.1"
  }
 },
 "nbformat": 4,
 "nbformat_minor": 2
}
