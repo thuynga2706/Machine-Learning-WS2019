{
 "cells": [
  {
   "cell_type": "code",
   "execution_count": 1,
   "metadata": {},
   "outputs": [],
   "source": [
    "x = [1,4,7,3,3,5]"
   ]
  },
  {
   "cell_type": "code",
   "execution_count": 227,
   "metadata": {},
   "outputs": [],
   "source": [
    "x =[1,2,3,3,4,5,6,7,11,18]\n",
    "def findmindif(n):\n",
    "    print(n)\n",
    "    if n > len(x)-1:\n",
    "        return -1\n",
    "    else:        \n",
    "        minnumber = max(x)\n",
    "        for i in range(len(x)-n):\n",
    "            diff = x[i+n] - x[i]          \n",
    "            if diff != 0 and diff not in x and diff<minnumber:\n",
    "                minnumber = diff   \n",
    "                \n",
    "        if minnumber == 0 or minnumber in x:\n",
    "            findmindif(n+1)\n",
    "        \n",
    "        else:\n",
    "            return minnumber\n",
    "        \n"
   ]
  },
  {
   "cell_type": "code",
   "execution_count": 228,
   "metadata": {},
   "outputs": [
    {
     "name": "stdout",
     "output_type": "stream",
     "text": [
      "1\n",
      "2\n",
      "3\n"
     ]
    }
   ],
   "source": [
    "findmindif(1)"
   ]
  },
  {
   "cell_type": "code",
   "execution_count": 211,
   "metadata": {},
   "outputs": [
    {
     "name": "stdout",
     "output_type": "stream",
     "text": [
      "17\n"
     ]
    }
   ],
   "source": [
    "n=9\n",
    "for i in range(len(x)-n):\n",
    "    diff = x[i+n] - x[i]  \n",
    "    print(diff)\n",
    "    if diff != 0 and diff not in x and diff<minnumber:\n",
    "        minnumber = diff "
   ]
  },
  {
   "cell_type": "code",
   "execution_count": 212,
   "metadata": {},
   "outputs": [
    {
     "data": {
      "text/plain": [
       "0"
      ]
     },
     "execution_count": 212,
     "metadata": {},
     "output_type": "execute_result"
    }
   ],
   "source": [
    "minnumber"
   ]
  },
  {
   "cell_type": "code",
   "execution_count": 207,
   "metadata": {},
   "outputs": [
    {
     "data": {
      "text/plain": [
       "10"
      ]
     },
     "execution_count": 207,
     "metadata": {},
     "output_type": "execute_result"
    }
   ],
   "source": [
    "len(x)"
   ]
  },
  {
   "cell_type": "code",
   "execution_count": null,
   "metadata": {},
   "outputs": [],
   "source": []
  }
 ],
 "metadata": {
  "kernelspec": {
   "display_name": "Python 3",
   "language": "python",
   "name": "python3"
  },
  "language_info": {
   "codemirror_mode": {
    "name": "ipython",
    "version": 3
   },
   "file_extension": ".py",
   "mimetype": "text/x-python",
   "name": "python",
   "nbconvert_exporter": "python",
   "pygments_lexer": "ipython3",
   "version": "3.7.1"
  }
 },
 "nbformat": 4,
 "nbformat_minor": 2
}
