{
 "cells": [
  {
   "cell_type": "code",
   "execution_count": 1,
   "metadata": {},
   "outputs": [],
   "source": [
    "import pandas as pd\n",
    "import numpy as np"
   ]
  },
  {
   "cell_type": "code",
   "execution_count": 2,
   "metadata": {},
   "outputs": [],
   "source": [
    "data = pd.read_csv(\"Gauss2.tsv\", sep='\\t',header = None).dropna(axis=1)"
   ]
  },
  {
   "cell_type": "code",
   "execution_count": 3,
   "metadata": {
    "scrolled": true
   },
   "outputs": [],
   "source": [
    "output =data.iloc[:,0]\n",
    "output = output.replace(\"A\",1)\n",
    "output = output.replace(\"B\",0)\n",
    "\n",
    "inputs =data.iloc[:,1:]\n",
    "inputs.insert(0, 'bias', 1)"
   ]
  },
  {
   "cell_type": "code",
   "execution_count": 4,
   "metadata": {
    "scrolled": true
   },
   "outputs": [],
   "source": [
    "learningrate = 1"
   ]
  },
  {
   "cell_type": "code",
   "execution_count": 5,
   "metadata": {
    "scrolled": true
   },
   "outputs": [],
   "source": [
    "w = np.zeros(inputs.shape[1])\n",
    "Misclass1 =[]\n",
    "for i in range(101):\n",
    "    prediction = np.dot(w,np.array(inputs).T)\n",
    "    prediction[prediction>0]= 1\n",
    "    prediction[prediction<=0]= 0\n",
    "    error = np.subtract(np.array(output),prediction)\n",
    "    gradient = np.dot(error,np.array(inputs))\n",
    "    w = w+learningrate*gradient\n",
    "    misclassification = error[error!=0].shape[0]\n",
    "    Misclass1.append(misclassification)"
   ]
  },
  {
   "cell_type": "code",
   "execution_count": 6,
   "metadata": {
    "scrolled": true
   },
   "outputs": [],
   "source": [
    "w = np.zeros(inputs.shape[1])\n",
    "Misclass2 =[]\n",
    "for i in range(1,102):\n",
    "    prediction = np.dot(w,np.array(inputs).T)\n",
    "    prediction[prediction>0]= 1\n",
    "    prediction[prediction<=0]= 0\n",
    "    error = np.subtract(np.array(output),prediction)\n",
    "    gradient = np.dot(error,np.array(inputs))\n",
    "    w = w+learningrate/i*gradient\n",
    "    misclassification = error[error!=0].shape[0]\n",
    "    Misclass2.append(misclassification)"
   ]
  },
  {
   "cell_type": "code",
   "execution_count": 7,
   "metadata": {},
   "outputs": [],
   "source": [
    "outputStr = ''\n",
    "for i in range(len(Misclass1)): \n",
    "    outputStr += str(Misclass1[i]) + \"\\t\"\n",
    "outputStr+=\"\\n\"\n",
    "\n",
    "for i in range(len(Misclass2)): \n",
    "    outputStr += str(Misclass2[i]) + \"\\t\"\n",
    "with open('output2.tsv', \"w\") as outputter:\n",
    "    outputter.write(outputStr)"
   ]
  },
  {
   "cell_type": "code",
   "execution_count": null,
   "metadata": {},
   "outputs": [],
   "source": []
  }
 ],
 "metadata": {
  "kernelspec": {
   "display_name": "Python 3",
   "language": "python",
   "name": "python3"
  },
  "language_info": {
   "codemirror_mode": {
    "name": "ipython",
    "version": 3
   },
   "file_extension": ".py",
   "mimetype": "text/x-python",
   "name": "python",
   "nbconvert_exporter": "python",
   "pygments_lexer": "ipython3",
   "version": "3.7.1"
  }
 },
 "nbformat": 4,
 "nbformat_minor": 2
}
