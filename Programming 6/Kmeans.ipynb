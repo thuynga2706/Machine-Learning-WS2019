{
 "cells": [
  {
   "cell_type": "code",
   "execution_count": 25,
   "metadata": {},
   "outputs": [],
   "source": [
    "import pandas as pd\n",
    "import numpy as np"
   ]
  },
  {
   "cell_type": "code",
   "execution_count": 26,
   "metadata": {},
   "outputs": [],
   "source": [
    "data = pd.read_csv(\"Gauss2.tsv\", sep='\\t',header = None).dropna(axis=1)\n",
    "data = data.iloc[:,1:]"
   ]
  },
  {
   "cell_type": "code",
   "execution_count": 27,
   "metadata": {
    "scrolled": true
   },
   "outputs": [],
   "source": [
    "c1=[0,5]\n",
    "c2=[0,4]\n",
    "c3=[0,3]\n",
    "distance = pd.DataFrame()\n"
   ]
  },
  {
   "cell_type": "code",
   "execution_count": 28,
   "metadata": {
    "scrolled": true
   },
   "outputs": [],
   "source": [
    "def kmeans(c1,c2,c3):\n",
    "    distance = pd.DataFrame()\n",
    "    distance['c1'] = (data - c1).pow(2).sum(axis=1)\n",
    "    distance['c2'] = (data - c2).pow(2).sum(axis=1)\n",
    "    distance['c3'] = (data - c3).pow(2).sum(axis=1)\n",
    "\n",
    "    distance[\"min_value\"] = distance.min(axis=1)\n",
    "    distance[\"centroid\"] = distance.idxmin(axis=1)\n",
    "\n",
    "    c1= data[data.index.isin(distance[distance.centroid == \"c1\"].index)].mean().to_list()\n",
    "    c2= data[data.index.isin(distance[distance.centroid == \"c2\"].index)].mean().to_list()\n",
    "    c3= data[data.index.isin(distance[distance.centroid == \"c3\"].index)].mean().to_list()\n",
    "    error = distance.min_value.sum()\n",
    "    return c1,c2,c3,error"
   ]
  },
  {
   "cell_type": "code",
   "execution_count": 29,
   "metadata": {
    "scrolled": true
   },
   "outputs": [],
   "source": [
    "Error=''\n",
    "Centroid =','.join(str(e) for e in c1) + \"\\t\" +','.join(str(e) for e in c2) + \"\\t\" + ','.join(str(e) for e in c3) + \"\\n\" \n",
    "olderror = 0\n",
    "c1,c2,c3,error = kmeans(c1,c2,c3)\n",
    "while error!=olderror :\n",
    "    Error += str(error) + \"\\n\"\n",
    "    olderror=error\n",
    "    if all((c1,c2,c3,error != kmeans(c1,c2,c3))[3]):\n",
    "        Centroid +=','.join(str(e) for e in c1) + \"\\t\"+ ','.join(str(e) for e in c2) + \"\\t\" + ','.join(str(e) for e in c3) + \"\\n\"\n",
    "    c1,c2,c3,error = kmeans(c1,c2,c3) \n"
   ]
  },
  {
   "cell_type": "code",
   "execution_count": null,
   "metadata": {},
   "outputs": [],
   "source": []
  },
  {
   "cell_type": "code",
   "execution_count": 13,
   "metadata": {},
   "outputs": [],
   "source": [
    "with open('error.tsv', \"w\") as outputter:\n",
    "    outputter.write(Error)"
   ]
  },
  {
   "cell_type": "code",
   "execution_count": 14,
   "metadata": {},
   "outputs": [],
   "source": [
    "with open('Centroid.tsv', \"w\") as outputter:\n",
    "    outputter.write(Centroid)"
   ]
  }
 ],
 "metadata": {
  "kernelspec": {
   "display_name": "Python 3",
   "language": "python",
   "name": "python3"
  },
  "language_info": {
   "codemirror_mode": {
    "name": "ipython",
    "version": 3
   },
   "file_extension": ".py",
   "mimetype": "text/x-python",
   "name": "python",
   "nbconvert_exporter": "python",
   "pygments_lexer": "ipython3",
   "version": "3.7.1"
  }
 },
 "nbformat": 4,
 "nbformat_minor": 2
}
